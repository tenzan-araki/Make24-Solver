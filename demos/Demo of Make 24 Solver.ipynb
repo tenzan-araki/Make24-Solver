{
 "cells": [
  {
   "cell_type": "code",
   "execution_count": 1,
   "metadata": {},
   "outputs": [],
   "source": [
    "from time import perf_counter\n",
    "from make24 import make24_solver, make24_analysis_1, make24_analysis_2"
   ]
  },
  {
   "cell_type": "markdown",
   "metadata": {},
   "source": [
    "# Make 24 solver"
   ]
  },
  {
   "cell_type": "markdown",
   "metadata": {},
   "source": [
    "This demo notebook shows how to apply `make24_solver`. To use the solver to defeat your cousin, simply type in the four numbers and select a mode. You can choose from one of `random`, `first`, and `all` modes.\n",
    "\n",
    "`first` mode returns the first solution that was found, which is fixed because the algorithm is not probabilistic. This mode is suitable for those who either value efficiency more than entertainment or need to defeat a super-cousin.\n",
    "\n",
    "`all` mode returns all solutions, so it is generally a little bit slower than `first` mode. This mode is suitable for those who value completeness, perhaps due to nerdiness / geekiness.\n",
    "\n",
    "`random` is the default mode, which means that if you don't select a mode then `random` mode is applied. It does the same computation as `all` mode, but only returns one of the solutions at random according to a uniform distribution. This mode is suitable for those who like to have some unpredictability in life.\n",
    "\n",
    "The difference in efficiency between the three modes is negligible when playing against most cousins, because all three modes obtain solutions in timescales that are in the order of milliseconds. In other words, the solver is always sufficiently fast given that you typed in the solution. If your cousin still beats you even when you use this solver, then maybe what you need is some [typing practice](https://www.tvokids.com/school-age/games/keyboard-climber-2)."
   ]
  },
  {
   "cell_type": "markdown",
   "metadata": {},
   "source": [
    "## 1. Examples that show how to use `make24_solver`"
   ]
  },
  {
   "cell_type": "markdown",
   "metadata": {},
   "source": [
    "### Get single solution"
   ]
  },
  {
   "cell_type": "code",
   "execution_count": 2,
   "metadata": {},
   "outputs": [
    {
     "name": "stdout",
     "output_type": "stream",
     "text": [
      "( ( 5 + 13 ) × 8 ) ÷ 6 = 24\n"
     ]
    }
   ],
   "source": [
    "result = make24_solver(5,6,8,13)"
   ]
  },
  {
   "cell_type": "code",
   "execution_count": 3,
   "metadata": {},
   "outputs": [
    {
     "name": "stdout",
     "output_type": "stream",
     "text": [
      "( ( 9 - 3 ) × 4 ) ÷ 1 = 24\n"
     ]
    }
   ],
   "source": [
    "result = make24_solver(1,4,9,3)"
   ]
  },
  {
   "cell_type": "code",
   "execution_count": 4,
   "metadata": {},
   "outputs": [
    {
     "name": "stdout",
     "output_type": "stream",
     "text": [
      "Cannot make 24.\n"
     ]
    }
   ],
   "source": [
    "result = make24_solver(6,7,9,13)"
   ]
  },
  {
   "cell_type": "code",
   "execution_count": 5,
   "metadata": {},
   "outputs": [
    {
     "name": "stdout",
     "output_type": "stream",
     "text": [
      "( ( 4 ÷ 10 ) + 2 ) × 10 = 24\n"
     ]
    }
   ],
   "source": [
    "result = make24_solver(2,4,10,10)"
   ]
  },
  {
   "cell_type": "code",
   "execution_count": 6,
   "metadata": {},
   "outputs": [
    {
     "name": "stdout",
     "output_type": "stream",
     "text": [
      "( 3 - 1 ) × ( 6 × 2 ) = 24\n"
     ]
    }
   ],
   "source": [
    "result = make24_solver(6,3,2,1)"
   ]
  },
  {
   "cell_type": "code",
   "execution_count": 7,
   "metadata": {},
   "outputs": [
    {
     "name": "stdout",
     "output_type": "stream",
     "text": [
      "( ( 6 ÷ 1 ) + 2 ) × 3 = 24\n"
     ]
    }
   ],
   "source": [
    "result = make24_solver(6,3,2,1)"
   ]
  },
  {
   "cell_type": "code",
   "execution_count": 8,
   "metadata": {},
   "outputs": [
    {
     "name": "stdout",
     "output_type": "stream",
     "text": [
      "( ( 6 + 2 ) × 3 ) × 1 = 24\n"
     ]
    }
   ],
   "source": [
    "result = make24_solver(6,3,2,1)"
   ]
  },
  {
   "cell_type": "code",
   "execution_count": 9,
   "metadata": {},
   "outputs": [
    {
     "name": "stdout",
     "output_type": "stream",
     "text": [
      "( 11 - 9 ) × ( 5 + 7 ) = 24\n"
     ]
    }
   ],
   "source": [
    "result = make24_solver(5,7,9,11)"
   ]
  },
  {
   "cell_type": "code",
   "execution_count": 10,
   "metadata": {},
   "outputs": [
    {
     "name": "stdout",
     "output_type": "stream",
     "text": [
      "( ( 24 - 24 ) × 24 ) + 24 = 24\n"
     ]
    }
   ],
   "source": [
    "result = make24_solver(24,24,24,24)"
   ]
  },
  {
   "cell_type": "code",
   "execution_count": 11,
   "metadata": {},
   "outputs": [
    {
     "name": "stdout",
     "output_type": "stream",
     "text": [
      "( ( 2 × 13 ) + 11 ) - 13 = 24\n"
     ]
    }
   ],
   "source": [
    "result = make24_solver(2,13,11,13)"
   ]
  },
  {
   "cell_type": "code",
   "execution_count": 12,
   "metadata": {},
   "outputs": [
    {
     "name": "stdout",
     "output_type": "stream",
     "text": [
      "( ( 2 × 13 ) + 6 ) - 8 = 24\n"
     ]
    }
   ],
   "source": [
    "result = make24_solver(2,8,6,13)"
   ]
  },
  {
   "cell_type": "code",
   "execution_count": 13,
   "metadata": {},
   "outputs": [
    {
     "name": "stdout",
     "output_type": "stream",
     "text": [
      "( ( 2 × 7 ) - 8 ) × 4 = 24\n"
     ]
    }
   ],
   "source": [
    "result = make24_solver(2,4,7,8,'first')"
   ]
  },
  {
   "cell_type": "markdown",
   "metadata": {},
   "source": [
    "### Get all solutions"
   ]
  },
  {
   "cell_type": "code",
   "execution_count": 14,
   "metadata": {},
   "outputs": [
    {
     "name": "stdout",
     "output_type": "stream",
     "text": [
      "Found 7 independent solutions.\n",
      "[1]     ( 4 × 9 ) - ( 2 × 6 ) = 24\n",
      "[2]     ( 9 - 6 ) × ( 2 × 4 ) = 24\n",
      "[3]     ( ( 4 × 9 ) ÷ 2 ) + 6 = 24\n",
      "[4]     6 - ( ( 2 - 4 ) × 9 ) = 24\n",
      "[5]     ( ( 4 ÷ 6 ) + 2 ) × 9 = 24\n",
      "[6]     6 ÷ ( ( 9 ÷ 4 ) - 2 ) = 24\n",
      "[7]     ( 9 - ( 6 ÷ 2 ) ) × 4 = 24\n"
     ]
    }
   ],
   "source": [
    "result = make24_solver(2,4,6,9,mode='all')"
   ]
  },
  {
   "cell_type": "code",
   "execution_count": 15,
   "metadata": {},
   "outputs": [
    {
     "name": "stdout",
     "output_type": "stream",
     "text": [
      "Found 1 independent solution.\n",
      "[1]     ( 4 - ( 4 ÷ 7 ) ) × 7 = 24\n"
     ]
    }
   ],
   "source": [
    "result = make24_solver(4,4,7,7,mode='all')"
   ]
  },
  {
   "cell_type": "code",
   "execution_count": 16,
   "metadata": {},
   "outputs": [
    {
     "name": "stdout",
     "output_type": "stream",
     "text": [
      "Found 9 independent solutions.\n",
      "[1]     ( ( 1 + 4 ) × 3 ) + 9 = 24\n",
      "[2]     ( ( 9 × 3 ) + 1 ) - 4 = 24\n",
      "[3]     ( 9 - 3 ) × ( 1 × 4 ) = 24\n",
      "[4]     ( ( 1 × 9 ) - 3 ) × 4 = 24\n",
      "[5]     ( 9 - ( 1 × 3 ) ) × 4 = 24\n",
      "[6]     ( ( 9 - 3 ) × 4 ) ÷ 1 = 24\n",
      "[7]     ( ( 4 - 1 ) × 9 ) - 3 = 24\n",
      "[8]     ( ( 9 ÷ 1 ) - 3 ) × 4 = 24\n",
      "[9]     ( 9 - ( 3 ÷ 1 ) ) × 4 = 24\n"
     ]
    }
   ],
   "source": [
    "result = make24_solver(1,4,9,3,mode='all')"
   ]
  },
  {
   "cell_type": "code",
   "execution_count": 17,
   "metadata": {},
   "outputs": [
    {
     "name": "stdout",
     "output_type": "stream",
     "text": [
      "Cannot make 24.\n"
     ]
    }
   ],
   "source": [
    "result = make24_solver(6,7,9,13,mode='all')"
   ]
  },
  {
   "cell_type": "code",
   "execution_count": 18,
   "metadata": {},
   "outputs": [
    {
     "name": "stdout",
     "output_type": "stream",
     "text": [
      "Found 1 independent solution.\n",
      "[1]     ( ( 4 ÷ 10 ) + 2 ) × 10 = 24\n"
     ]
    }
   ],
   "source": [
    "result = make24_solver(2,4,10,10,mode='all')"
   ]
  },
  {
   "cell_type": "code",
   "execution_count": 19,
   "metadata": {},
   "outputs": [
    {
     "name": "stdout",
     "output_type": "stream",
     "text": [
      "Found 4 independent solutions.\n",
      "[1]     ( 2 + 1 ) × ( 3 + 5 ) = 24\n",
      "[2]     ( ( 5 + 2 ) + 1 ) × 3 = 24\n",
      "[3]     ( ( 3 + 2 ) × 5 ) - 1 = 24\n",
      "[4]     ( 5 - 1 ) × ( 3 × 2 ) = 24\n"
     ]
    }
   ],
   "source": [
    "result = make24_solver(3,5,2,1,mode='all')"
   ]
  },
  {
   "cell_type": "code",
   "execution_count": 20,
   "metadata": {},
   "outputs": [
    {
     "name": "stdout",
     "output_type": "stream",
     "text": [
      "Found 1 independent solution.\n",
      "[1]     ( 11 - 9 ) × ( 5 + 7 ) = 24\n"
     ]
    }
   ],
   "source": [
    "result = make24_solver(5,7,9,11,mode='all')"
   ]
  },
  {
   "cell_type": "code",
   "execution_count": 21,
   "metadata": {},
   "outputs": [
    {
     "name": "stdout",
     "output_type": "stream",
     "text": [
      "Found 1 independent solution.\n",
      "[1]     ( ( 24 - 24 ) × 24 ) + 24 = 24\n"
     ]
    }
   ],
   "source": [
    "result = make24_solver(24,24,24,24,mode='all')"
   ]
  },
  {
   "cell_type": "markdown",
   "metadata": {},
   "source": [
    "## 2. Test computation time"
   ]
  },
  {
   "cell_type": "markdown",
   "metadata": {},
   "source": [
    "### `random` mode"
   ]
  },
  {
   "cell_type": "code",
   "execution_count": 24,
   "metadata": {},
   "outputs": [
    {
     "name": "stdout",
     "output_type": "stream",
     "text": [
      "Time elapsed = 0.00333 seconds.\n"
     ]
    }
   ],
   "source": [
    "# first example\n",
    "t0 = perf_counter()\n",
    "result = make24_solver(6,7,9,13,mode='random',print_ok=False)\n",
    "print('Time elapsed =', round(perf_counter() - t0, 5), 'seconds.')"
   ]
  },
  {
   "cell_type": "code",
   "execution_count": 25,
   "metadata": {},
   "outputs": [
    {
     "name": "stdout",
     "output_type": "stream",
     "text": [
      "Time elapsed = 0.00233 seconds.\n"
     ]
    }
   ],
   "source": [
    "# second example\n",
    "t0 = perf_counter()\n",
    "result = make24_solver(4,4,4,4,mode='random',print_ok=False)\n",
    "print('Time elapsed =', round(perf_counter() - t0, 5), 'seconds.')"
   ]
  },
  {
   "cell_type": "markdown",
   "metadata": {},
   "source": [
    "### `first` mode"
   ]
  },
  {
   "cell_type": "code",
   "execution_count": 22,
   "metadata": {},
   "outputs": [
    {
     "name": "stdout",
     "output_type": "stream",
     "text": [
      "Time elapsed = 0.00433 seconds.\n"
     ]
    }
   ],
   "source": [
    "# worst case example (no solution and no repetition)\n",
    "t0 = perf_counter()\n",
    "result = make24_solver(6,7,9,13,mode='first',print_ok=False)\n",
    "print('Time elapsed =', round(perf_counter() - t0, 5), 'seconds.')"
   ]
  },
  {
   "cell_type": "code",
   "execution_count": 23,
   "metadata": {},
   "outputs": [
    {
     "name": "stdout",
     "output_type": "stream",
     "text": [
      "Time elapsed = 0.00017 seconds.\n"
     ]
    }
   ],
   "source": [
    "# best case example (all same cards)\n",
    "t0 = perf_counter()\n",
    "result = make24_solver(4,4,4,4,mode='first',print_ok=False)\n",
    "print('Time elapsed =', round(perf_counter() - t0, 5), 'seconds.')"
   ]
  },
  {
   "cell_type": "markdown",
   "metadata": {},
   "source": [
    "### `all` mode"
   ]
  },
  {
   "cell_type": "code",
   "execution_count": 26,
   "metadata": {},
   "outputs": [
    {
     "name": "stdout",
     "output_type": "stream",
     "text": [
      "Time elapsed = 0.00367 seconds.\n"
     ]
    }
   ],
   "source": [
    "# first example\n",
    "t0 = perf_counter()\n",
    "result = make24_solver(6,7,9,13,mode='all',print_ok=False)\n",
    "print('Time elapsed =', round(perf_counter() - t0, 5), 'seconds.')"
   ]
  },
  {
   "cell_type": "code",
   "execution_count": 27,
   "metadata": {},
   "outputs": [
    {
     "name": "stdout",
     "output_type": "stream",
     "text": [
      "Time elapsed = 0.00228 seconds.\n"
     ]
    }
   ],
   "source": [
    "# second example\n",
    "t0 = perf_counter()\n",
    "result = make24_solver(4,4,4,4,mode='all',print_ok=False)\n",
    "print('Time elapsed =', round(perf_counter() - t0, 5), 'seconds.')"
   ]
  },
  {
   "cell_type": "markdown",
   "metadata": {},
   "source": [
    "## 3. Additional analysis"
   ]
  },
  {
   "cell_type": "markdown",
   "metadata": {},
   "source": [
    "### Probability of having no solution"
   ]
  },
  {
   "cell_type": "code",
   "execution_count": 28,
   "metadata": {},
   "outputs": [
    {
     "name": "stdout",
     "output_type": "stream",
     "text": [
      "Pr(No Solution) = 25.2 %\n"
     ]
    }
   ],
   "source": [
    "make24_analysis_1()"
   ]
  },
  {
   "cell_type": "markdown",
   "metadata": {},
   "source": [
    "### Histogram for the number of solutions among all 1820 combinations of four cards"
   ]
  },
  {
   "cell_type": "code",
   "execution_count": 29,
   "metadata": {},
   "outputs": [
    {
     "data": {
      "image/png": "[encoded data removed]",
      "text/plain": [
       "<Figure size 432x288 with 1 Axes>"
      ]
     },
     "metadata": {
      "needs_background": "light"
     },
     "output_type": "display_data"
    }
   ],
   "source": [
    "count = make24_analysis_2()"
   ]
  },
  {
   "cell_type": "code",
   "execution_count": null,
   "metadata": {},
   "outputs": [],
   "source": []
  }
 ],
 "metadata": {
  "kernelspec": {
   "display_name": "Python 3",
   "language": "python",
   "name": "python3"
  },
  "language_info": {
   "codemirror_mode": {
    "name": "ipython",
    "version": 3
   },
   "file_extension": ".py",
   "mimetype": "text/x-python",
   "name": "python",
   "nbconvert_exporter": "python",
   "pygments_lexer": "ipython3",
   "version": "3.9.1"
  }
 },
 "nbformat": 4,
 "nbformat_minor": 4
}
