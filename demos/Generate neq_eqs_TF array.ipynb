{
 "cells": [
  {
   "cell_type": "code",
   "execution_count": 1,
   "metadata": {},
   "outputs": [],
   "source": [
    "from time import perf_counter\n",
    "from make24 import get_nonequiv_eqs_array"
   ]
  },
  {
   "cell_type": "markdown",
   "metadata": {},
   "source": [
    "# Generate array of independent equations to use in solver"
   ]
  },
  {
   "cell_type": "markdown",
   "metadata": {},
   "source": [
    "Run this piece of code once in a lifetime to store an array of boolean values to eliminate redundant computations that would otherwise occur due to equations that are actually equivalent. We want the solver to only check one of the equivalent equations to see if it gives 24.\n",
    "\n",
    "This array has already been stored in the file `neq_eqs_TF.csv` in the current `demos` folder, so this notebook is here just to show you how the array was generated.\n",
    "\n",
    "It is basically doing the time-consuming but input-independent part of the code outside of the solver."
   ]
  },
  {
   "cell_type": "code",
   "execution_count": 2,
   "metadata": {},
   "outputs": [
    {
     "name": "stdout",
     "output_type": "stream",
     "text": [
      "Time elapsed = 18.2 seconds.\n"
     ]
    }
   ],
   "source": [
    "t0 = perf_counter()\n",
    "neq_eqs_TF_all = get_nonequiv_eqs_array();\n",
    "print('Time elapsed =', round(perf_counter() - t0, 1), 'seconds.')"
   ]
  },
  {
   "cell_type": "code",
   "execution_count": null,
   "metadata": {},
   "outputs": [],
   "source": []
  }
 ],
 "metadata": {
  "kernelspec": {
   "display_name": "Python 3",
   "language": "python",
   "name": "python3"
  },
  "language_info": {
   "codemirror_mode": {
    "name": "ipython",
    "version": 3
   },
   "file_extension": ".py",
   "mimetype": "text/x-python",
   "name": "python",
   "nbconvert_exporter": "python",
   "pygments_lexer": "ipython3",
   "version": "3.9.1"
  }
 },
 "nbformat": 4,
 "nbformat_minor": 4
}
